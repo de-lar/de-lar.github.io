{
 "cells": [
  {
   "cell_type": "code",
   "execution_count": 2,
   "id": "fdb65c7d",
   "metadata": {
    "scrolled": false
   },
   "outputs": [
    {
     "name": "stdout",
     "output_type": "stream",
     "text": [
      "True\n",
      "[{'_id': ObjectId('66ff2364b56a7988ccf6c381'), 'animal_id': '1234', 'name': 'Snoball', 'breed': 'Bulldog', 'age': 7}]\n",
      "Objects modified:  1\n",
      "Objects deleted : 1\n"
     ]
    }
   ],
   "source": [
    "from crud import AnimalShelter\n",
    "\n",
    "# initializes the AnimalShelter object with authentication\n",
    "shelter = AnimalShelter(username='aacuser', password='SNHU1234', host='nv-desktop-services.apporto.com', port=32212)\n",
    "\n",
    "# tests the create method\n",
    "data = {\n",
    "    \"animal_id\": \"1234\",\n",
    "    \"name\": \"Snoball\",\n",
    "    \"breed\": \"Bulldog\",\n",
    "    \"age\": 7\n",
    "}\n",
    "print(shelter.create(data))  #prints True if successful\n",
    "\n",
    "#tests the read method\n",
    "query = {\"animal_id\": \"1234\"}\n",
    "print(shelter.read(query)) #prints lists if succeful, else an empty list\n",
    "\n",
    "\n",
    "# tests the update method\n",
    "num_update = {\"age\": 10}\n",
    "print(\"Objects modified: \", shelter.update(query, num_update)) #prints the number of objects modified\n",
    "\n",
    "\n",
    "# tests the delete method\n",
    "print(\"Objects deleted :\", shelter.delete(query))  # prints the number of documents deleted"
   ]
  },
  {
   "cell_type": "code",
   "execution_count": null,
   "id": "7aef18b7",
   "metadata": {},
   "outputs": [],
   "source": []
  }
 ],
 "metadata": {
  "kernelspec": {
   "display_name": "Python 3 (ipykernel)",
   "language": "python",
   "name": "python3"
  },
  "language_info": {
   "codemirror_mode": {
    "name": "ipython",
    "version": 3
   },
   "file_extension": ".py",
   "mimetype": "text/x-python",
   "name": "python",
   "nbconvert_exporter": "python",
   "pygments_lexer": "ipython3",
   "version": "3.9.12"
  }
 },
 "nbformat": 4,
 "nbformat_minor": 5
}
